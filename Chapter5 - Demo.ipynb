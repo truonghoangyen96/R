{
 "cells": [
  {
   "cell_type": "code",
   "execution_count": 1,
   "metadata": {},
   "outputs": [],
   "source": [
    "# Xem danh sách các package đã cài\n",
    "library()"
   ]
  },
  {
   "cell_type": "code",
   "execution_count": 2,
   "metadata": {},
   "outputs": [],
   "source": [
    "# Xem thông tin về built-in function\n",
    "help(mean)"
   ]
  },
  {
   "cell_type": "code",
   "execution_count": 3,
   "metadata": {},
   "outputs": [
    {
     "name": "stdout",
     "output_type": "stream",
     "text": [
      "\n",
      "sum> ## Pass a vector to sum, and it will add the elements together.\n",
      "sum> sum(1:5)\n",
      "[1] 15\n",
      "\n",
      "sum> ## Pass several numbers to sum, and it also adds the elements.\n",
      "sum> sum(1, 2, 3, 4, 5)\n",
      "[1] 15\n",
      "\n",
      "sum> ## In fact, you can pass vectors into several arguments, and everything gets added.\n",
      "sum> sum(1:2, 3:5)\n",
      "[1] 15\n",
      "\n",
      "sum> ## If there are missing values, the sum is unknown, i.e., also missing, ....\n",
      "sum> sum(1:5, NA)\n",
      "[1] NA\n",
      "\n",
      "sum> ## ... unless  we exclude missing values explicitly:\n",
      "sum> sum(1:5, NA, na.rm = TRUE)\n",
      "[1] 15\n"
     ]
    }
   ],
   "source": [
    "# Xem ví dụ về built-in function\n",
    "example(sum)"
   ]
  },
  {
   "cell_type": "code",
   "execution_count": 14,
   "metadata": {},
   "outputs": [],
   "source": [
    "sum_even.function = function(start, end){\n",
    "    sum_even = 0\n",
    "    for (i in start:end){\n",
    "        if (i%%2 == 0){\n",
    "            sum_even = sum_even + i\n",
    "        }\n",
    "    }\n",
    "    return(sum_even)\n",
    "}"
   ]
  },
  {
   "cell_type": "code",
   "execution_count": 18,
   "metadata": {},
   "outputs": [
    {
     "name": "stdout",
     "output_type": "stream",
     "text": [
      "[1] 30\n"
     ]
    }
   ],
   "source": [
    "sum_even = sum_even.function(1,10)\n",
    "print(sum_even)"
   ]
  },
  {
   "cell_type": "code",
   "execution_count": 16,
   "metadata": {},
   "outputs": [],
   "source": [
    "sum_even_p.function = function(start, end){\n",
    "    sum_even = 0\n",
    "    for (i in start:end){\n",
    "        if (i%%2 == 0){\n",
    "            sum_even = sum_even + i\n",
    "        }\n",
    "    }\n",
    "    print(sum_even)\n",
    "}"
   ]
  },
  {
   "cell_type": "code",
   "execution_count": 17,
   "metadata": {},
   "outputs": [
    {
     "name": "stdout",
     "output_type": "stream",
     "text": [
      "[1] 30\n"
     ]
    }
   ],
   "source": [
    "sum_even_p.function(1,10)"
   ]
  },
  {
   "cell_type": "code",
   "execution_count": 19,
   "metadata": {},
   "outputs": [
    {
     "name": "stdout",
     "output_type": "stream",
     "text": [
      "Start: 1\n",
      "End: 10\n",
      "[1] 30\n"
     ]
    }
   ],
   "source": [
    "start = readline(prompt = 'Start: ')\n",
    "end = readline(prompt = 'End: ')\n",
    "sum_even_p.function(start, end)"
   ]
  },
  {
   "cell_type": "code",
   "execution_count": 22,
   "metadata": {},
   "outputs": [
    {
     "name": "stdout",
     "output_type": "stream",
     "text": [
      "[1] \"With 10000 , you can drink Tea\"\n",
      "[1] \"With 10000 , you can drink Coffee\"\n"
     ]
    }
   ],
   "source": [
    "drink.function = function(price, type='Tea'){\n",
    "    print(paste('With', price, ', you can drink', type))\n",
    "}\n",
    "drink.function(10000)\n",
    "drink.function(10000, 'Coffee')"
   ]
  }
 ],
 "metadata": {
  "kernelspec": {
   "display_name": "R",
   "language": "R",
   "name": "ir"
  },
  "language_info": {
   "codemirror_mode": "r",
   "file_extension": ".r",
   "mimetype": "text/x-r-source",
   "name": "R",
   "pygments_lexer": "r",
   "version": "4.0.2"
  }
 },
 "nbformat": 4,
 "nbformat_minor": 4
}
